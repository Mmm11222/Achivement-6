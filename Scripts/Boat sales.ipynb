{
 "cells": [
  {
   "cell_type": "markdown",
   "id": "01bf318b",
   "metadata": {},
   "source": [
    "# Import Libraries"
   ]
  },
  {
   "cell_type": "code",
   "execution_count": 1,
   "id": "3c0e10ea",
   "metadata": {},
   "outputs": [],
   "source": [
    "# Import required libraries\n",
    "import pandas as pd \n",
    "import numpy as np \n",
    "import os \n",
    "import matplotlib.pyplot as plt\n",
    "import seaborn as sns\n",
    "import scipy "
   ]
  },
  {
   "cell_type": "markdown",
   "id": "90f9da43",
   "metadata": {},
   "source": [
    "# Import Data"
   ]
  },
  {
   "cell_type": "code",
   "execution_count": 2,
   "id": "6f46e83c",
   "metadata": {},
   "outputs": [],
   "source": [
    "# Import Data\n",
    "path = r\"C:\\Users\\Mafalda\\Documents\\mafalda\\Formação\\Data Analytics\\CareerFoundry\\Data Analytics Program\\2.Data Immersion\\Achievement 6\\Boat Sales Analysis\""
   ]
  },
  {
   "cell_type": "code",
   "execution_count": 3,
   "id": "2a1478ab",
   "metadata": {},
   "outputs": [],
   "source": [
    "df = pd.read_excel(os.path.join(path, '02 Data', 'Original Data', 'boat_data.xlsx'), index_col = False)"
   ]
  },
  {
   "cell_type": "code",
   "execution_count": 4,
   "id": "9060ecae",
   "metadata": {},
   "outputs": [
    {
     "name": "stdout",
     "output_type": "stream",
     "text": [
      "<class 'pandas.core.frame.DataFrame'>\n",
      "RangeIndex: 9893 entries, 0 to 9892\n",
      "Data columns (total 15 columns):\n",
      " #   Column                       Non-Null Count  Dtype  \n",
      "---  ------                       --------------  -----  \n",
      " 0   Price                        9893 non-null   object \n",
      " 1   Column2                      9888 non-null   float64\n",
      " 2   Column1                      9892 non-null   object \n",
      " 3   In euros                     9890 non-null   float64\n",
      " 4   Boat Type                    9892 non-null   object \n",
      " 5   Manufacturer                 8550 non-null   object \n",
      " 6   Condition                    9882 non-null   object \n",
      " 7   Fuel                         7596 non-null   object \n",
      " 8   Year Built                   9888 non-null   float64\n",
      " 9   Length                       9879 non-null   float64\n",
      " 10  Width                        9832 non-null   float64\n",
      " 11  Number of views last 7 days  9884 non-null   float64\n",
      " 12  Material                     8139 non-null   object \n",
      " 13  Country                      9852 non-null   object \n",
      " 14  City                         8949 non-null   object \n",
      "dtypes: float64(6), object(9)\n",
      "memory usage: 1.1+ MB\n"
     ]
    }
   ],
   "source": [
    "## Exploring Data\n",
    "df.info()"
   ]
  },
  {
   "cell_type": "code",
   "execution_count": 5,
   "id": "2088cad8",
   "metadata": {},
   "outputs": [
    {
     "data": {
      "text/html": [
       "<div>\n",
       "<style scoped>\n",
       "    .dataframe tbody tr th:only-of-type {\n",
       "        vertical-align: middle;\n",
       "    }\n",
       "\n",
       "    .dataframe tbody tr th {\n",
       "        vertical-align: top;\n",
       "    }\n",
       "\n",
       "    .dataframe thead th {\n",
       "        text-align: right;\n",
       "    }\n",
       "</style>\n",
       "<table border=\"1\" class=\"dataframe\">\n",
       "  <thead>\n",
       "    <tr style=\"text-align: right;\">\n",
       "      <th></th>\n",
       "      <th>Price</th>\n",
       "      <th>Column2</th>\n",
       "      <th>Column1</th>\n",
       "      <th>In euros</th>\n",
       "      <th>Boat Type</th>\n",
       "      <th>Manufacturer</th>\n",
       "      <th>Condition</th>\n",
       "      <th>Fuel</th>\n",
       "      <th>Year Built</th>\n",
       "      <th>Length</th>\n",
       "      <th>Width</th>\n",
       "      <th>Number of views last 7 days</th>\n",
       "      <th>Material</th>\n",
       "      <th>Country</th>\n",
       "      <th>City</th>\n",
       "    </tr>\n",
       "  </thead>\n",
       "  <tbody>\n",
       "    <tr>\n",
       "      <th>0</th>\n",
       "      <td>CHF</td>\n",
       "      <td>1.06</td>\n",
       "      <td>3337</td>\n",
       "      <td>3537.22</td>\n",
       "      <td>Motor Yacht</td>\n",
       "      <td>Rigiflex power boats</td>\n",
       "      <td>new boat from stock</td>\n",
       "      <td>NaN</td>\n",
       "      <td>2017.0</td>\n",
       "      <td>4.00</td>\n",
       "      <td>1.90</td>\n",
       "      <td>226.0</td>\n",
       "      <td>NaN</td>\n",
       "      <td>Switzerland</td>\n",
       "      <td>Lake Geneva</td>\n",
       "    </tr>\n",
       "    <tr>\n",
       "      <th>1</th>\n",
       "      <td>EUR</td>\n",
       "      <td>1.00</td>\n",
       "      <td>3490</td>\n",
       "      <td>3490.00</td>\n",
       "      <td>Center console boat</td>\n",
       "      <td>Terhi power boats</td>\n",
       "      <td>new boat from stock</td>\n",
       "      <td>NaN</td>\n",
       "      <td>2020.0</td>\n",
       "      <td>4.00</td>\n",
       "      <td>1.50</td>\n",
       "      <td>75.0</td>\n",
       "      <td>Thermoplastic</td>\n",
       "      <td>Germany</td>\n",
       "      <td>BÃ¶nningstedt</td>\n",
       "    </tr>\n",
       "    <tr>\n",
       "      <th>2</th>\n",
       "      <td>CHF</td>\n",
       "      <td>1.06</td>\n",
       "      <td>3770</td>\n",
       "      <td>3996.20</td>\n",
       "      <td>Sport Boat</td>\n",
       "      <td>Marine power boats</td>\n",
       "      <td>new boat from stock</td>\n",
       "      <td>NaN</td>\n",
       "      <td>0.0</td>\n",
       "      <td>3.69</td>\n",
       "      <td>1.42</td>\n",
       "      <td>124.0</td>\n",
       "      <td>Aluminium</td>\n",
       "      <td>Switzerland</td>\n",
       "      <td>Lake of Zurich</td>\n",
       "    </tr>\n",
       "    <tr>\n",
       "      <th>3</th>\n",
       "      <td>DKK</td>\n",
       "      <td>0.13</td>\n",
       "      <td>25900</td>\n",
       "      <td>3367.00</td>\n",
       "      <td>Sport Boat</td>\n",
       "      <td>Pioner power boats</td>\n",
       "      <td>new boat from stock</td>\n",
       "      <td>NaN</td>\n",
       "      <td>2020.0</td>\n",
       "      <td>3.00</td>\n",
       "      <td>1.00</td>\n",
       "      <td>64.0</td>\n",
       "      <td>NaN</td>\n",
       "      <td>Denmark</td>\n",
       "      <td>Svendborg</td>\n",
       "    </tr>\n",
       "    <tr>\n",
       "      <th>4</th>\n",
       "      <td>EUR</td>\n",
       "      <td>1.00</td>\n",
       "      <td>3399</td>\n",
       "      <td>3399.00</td>\n",
       "      <td>Fishing Boat</td>\n",
       "      <td>Linder power boats</td>\n",
       "      <td>new boat from stock</td>\n",
       "      <td>NaN</td>\n",
       "      <td>2019.0</td>\n",
       "      <td>3.55</td>\n",
       "      <td>1.46</td>\n",
       "      <td>58.0</td>\n",
       "      <td>Aluminium</td>\n",
       "      <td>Germany</td>\n",
       "      <td>Bayern</td>\n",
       "    </tr>\n",
       "  </tbody>\n",
       "</table>\n",
       "</div>"
      ],
      "text/plain": [
       "  Price  Column2 Column1  In euros            Boat Type          Manufacturer  \\\n",
       "0   CHF     1.06    3337   3537.22          Motor Yacht  Rigiflex power boats   \n",
       "1   EUR     1.00    3490   3490.00  Center console boat     Terhi power boats   \n",
       "2   CHF     1.06    3770   3996.20           Sport Boat    Marine power boats   \n",
       "3   DKK     0.13   25900   3367.00           Sport Boat    Pioner power boats   \n",
       "4   EUR     1.00    3399   3399.00         Fishing Boat    Linder power boats   \n",
       "\n",
       "             Condition Fuel  Year Built  Length  Width  \\\n",
       "0  new boat from stock  NaN      2017.0    4.00   1.90   \n",
       "1  new boat from stock  NaN      2020.0    4.00   1.50   \n",
       "2  new boat from stock  NaN         0.0    3.69   1.42   \n",
       "3  new boat from stock  NaN      2020.0    3.00   1.00   \n",
       "4  new boat from stock  NaN      2019.0    3.55   1.46   \n",
       "\n",
       "   Number of views last 7 days       Material      Country             City  \n",
       "0                        226.0            NaN  Switzerland      Lake Geneva  \n",
       "1                         75.0  Thermoplastic      Germany    BÃ¶nningstedt  \n",
       "2                        124.0      Aluminium  Switzerland   Lake of Zurich  \n",
       "3                         64.0            NaN      Denmark        Svendborg  \n",
       "4                         58.0      Aluminium      Germany           Bayern  "
      ]
     },
     "execution_count": 5,
     "metadata": {},
     "output_type": "execute_result"
    }
   ],
   "source": [
    "df.head()\n"
   ]
  },
  {
   "cell_type": "code",
   "execution_count": 6,
   "id": "3052bfed",
   "metadata": {},
   "outputs": [
    {
     "data": {
      "text/html": [
       "<div>\n",
       "<style scoped>\n",
       "    .dataframe tbody tr th:only-of-type {\n",
       "        vertical-align: middle;\n",
       "    }\n",
       "\n",
       "    .dataframe tbody tr th {\n",
       "        vertical-align: top;\n",
       "    }\n",
       "\n",
       "    .dataframe thead th {\n",
       "        text-align: right;\n",
       "    }\n",
       "</style>\n",
       "<table border=\"1\" class=\"dataframe\">\n",
       "  <thead>\n",
       "    <tr style=\"text-align: right;\">\n",
       "      <th></th>\n",
       "      <th>Price</th>\n",
       "      <th>Column2</th>\n",
       "      <th>Column1</th>\n",
       "      <th>In euros</th>\n",
       "      <th>Boat Type</th>\n",
       "      <th>Manufacturer</th>\n",
       "      <th>Condition</th>\n",
       "      <th>Fuel</th>\n",
       "      <th>Year Built</th>\n",
       "      <th>Length</th>\n",
       "      <th>Width</th>\n",
       "      <th>Number of views last 7 days</th>\n",
       "      <th>Material</th>\n",
       "      <th>Country</th>\n",
       "      <th>City</th>\n",
       "    </tr>\n",
       "  </thead>\n",
       "  <tbody>\n",
       "    <tr>\n",
       "      <th>9888</th>\n",
       "      <td>CHF</td>\n",
       "      <td>1.06</td>\n",
       "      <td>4900</td>\n",
       "      <td>5194.0</td>\n",
       "      <td>Sport Boat</td>\n",
       "      <td>Sea Ray power boats</td>\n",
       "      <td>Used boat</td>\n",
       "      <td>Unleaded</td>\n",
       "      <td>1987.0</td>\n",
       "      <td>6.30</td>\n",
       "      <td>2.44</td>\n",
       "      <td>1116.0</td>\n",
       "      <td>NaN</td>\n",
       "      <td>Switzerland</td>\n",
       "      <td>Lago Maggiore</td>\n",
       "    </tr>\n",
       "    <tr>\n",
       "      <th>9889</th>\n",
       "      <td>EUR</td>\n",
       "      <td>1.00</td>\n",
       "      <td>4516</td>\n",
       "      <td>4516.0</td>\n",
       "      <td>Sport Boat</td>\n",
       "      <td>NaN</td>\n",
       "      <td>new boat from stock</td>\n",
       "      <td>NaN</td>\n",
       "      <td>0.0</td>\n",
       "      <td>4.17</td>\n",
       "      <td>1.68</td>\n",
       "      <td>94.0</td>\n",
       "      <td>GRP</td>\n",
       "      <td>Germany</td>\n",
       "      <td>Hamburg</td>\n",
       "    </tr>\n",
       "    <tr>\n",
       "      <th>9890</th>\n",
       "      <td>EUR</td>\n",
       "      <td>1.00</td>\n",
       "      <td>4499</td>\n",
       "      <td>4499.0</td>\n",
       "      <td>Sport Boat</td>\n",
       "      <td>BlueCraft power boats</td>\n",
       "      <td>new boat from stock</td>\n",
       "      <td>Unleaded</td>\n",
       "      <td>2020.0</td>\n",
       "      <td>4.40</td>\n",
       "      <td>1.80</td>\n",
       "      <td>354.0</td>\n",
       "      <td>GRP</td>\n",
       "      <td>Germany</td>\n",
       "      <td>Nordrhein-Westfalen</td>\n",
       "    </tr>\n",
       "    <tr>\n",
       "      <th>9891</th>\n",
       "      <td>EUR</td>\n",
       "      <td>1.00</td>\n",
       "      <td>4300</td>\n",
       "      <td>4300.0</td>\n",
       "      <td>Pontoon Boat</td>\n",
       "      <td>Whaly power boats</td>\n",
       "      <td>new boat from stock</td>\n",
       "      <td>NaN</td>\n",
       "      <td>2018.0</td>\n",
       "      <td>4.37</td>\n",
       "      <td>1.89</td>\n",
       "      <td>266.0</td>\n",
       "      <td>NaN</td>\n",
       "      <td>Italy</td>\n",
       "      <td>Dormelletto</td>\n",
       "    </tr>\n",
       "    <tr>\n",
       "      <th>9892</th>\n",
       "      <td>CHF</td>\n",
       "      <td>1.06</td>\n",
       "      <td>3780</td>\n",
       "      <td>4006.8</td>\n",
       "      <td>Fishing Boat</td>\n",
       "      <td>DarekCo power boats</td>\n",
       "      <td>new boat from stock</td>\n",
       "      <td>NaN</td>\n",
       "      <td>2019.0</td>\n",
       "      <td>3.60</td>\n",
       "      <td>1.60</td>\n",
       "      <td>194.0</td>\n",
       "      <td>GRP</td>\n",
       "      <td>Switzerland</td>\n",
       "      <td>Brienzersee</td>\n",
       "    </tr>\n",
       "  </tbody>\n",
       "</table>\n",
       "</div>"
      ],
      "text/plain": [
       "     Price  Column2 Column1  In euros     Boat Type           Manufacturer  \\\n",
       "9888   CHF     1.06    4900    5194.0    Sport Boat    Sea Ray power boats   \n",
       "9889   EUR     1.00    4516    4516.0    Sport Boat                    NaN   \n",
       "9890   EUR     1.00    4499    4499.0    Sport Boat  BlueCraft power boats   \n",
       "9891   EUR     1.00    4300    4300.0  Pontoon Boat      Whaly power boats   \n",
       "9892   CHF     1.06    3780    4006.8  Fishing Boat    DarekCo power boats   \n",
       "\n",
       "                Condition      Fuel  Year Built  Length  Width  \\\n",
       "9888            Used boat  Unleaded      1987.0    6.30   2.44   \n",
       "9889  new boat from stock       NaN         0.0    4.17   1.68   \n",
       "9890  new boat from stock  Unleaded      2020.0    4.40   1.80   \n",
       "9891  new boat from stock       NaN      2018.0    4.37   1.89   \n",
       "9892  new boat from stock       NaN      2019.0    3.60   1.60   \n",
       "\n",
       "      Number of views last 7 days Material      Country                  City  \n",
       "9888                       1116.0      NaN  Switzerland         Lago Maggiore  \n",
       "9889                         94.0      GRP      Germany               Hamburg  \n",
       "9890                        354.0      GRP      Germany   Nordrhein-Westfalen  \n",
       "9891                        266.0      NaN        Italy          Dormelletto   \n",
       "9892                        194.0      GRP  Switzerland           Brienzersee  "
      ]
     },
     "execution_count": 6,
     "metadata": {},
     "output_type": "execute_result"
    }
   ],
   "source": [
    "df.tail()\n"
   ]
  },
  {
   "cell_type": "markdown",
   "id": "f59015d5",
   "metadata": {},
   "source": [
    "# Data Cleaning & Wrangling"
   ]
  },
  {
   "cell_type": "code",
   "execution_count": 7,
   "id": "7876a038",
   "metadata": {},
   "outputs": [],
   "source": [
    "# Data Cleaning & Wrangling\n",
    "# Dropping columns\n",
    "df=df.drop(columns=['Price','Column2','Column1','Fuel','City'])\n"
   ]
  },
  {
   "cell_type": "code",
   "execution_count": 8,
   "id": "4c57cb40",
   "metadata": {},
   "outputs": [
    {
     "name": "stdout",
     "output_type": "stream",
     "text": [
      "<class 'pandas.core.frame.DataFrame'>\n",
      "RangeIndex: 9893 entries, 0 to 9892\n",
      "Data columns (total 10 columns):\n",
      " #   Column                       Non-Null Count  Dtype  \n",
      "---  ------                       --------------  -----  \n",
      " 0   In euros                     9890 non-null   float64\n",
      " 1   Boat Type                    9892 non-null   object \n",
      " 2   Manufacturer                 8550 non-null   object \n",
      " 3   Condition                    9882 non-null   object \n",
      " 4   Year Built                   9888 non-null   float64\n",
      " 5   Length                       9879 non-null   float64\n",
      " 6   Width                        9832 non-null   float64\n",
      " 7   Number of views last 7 days  9884 non-null   float64\n",
      " 8   Material                     8139 non-null   object \n",
      " 9   Country                      9852 non-null   object \n",
      "dtypes: float64(5), object(5)\n",
      "memory usage: 773.0+ KB\n"
     ]
    }
   ],
   "source": [
    "df.info()"
   ]
  },
  {
   "cell_type": "code",
   "execution_count": 9,
   "id": "704e68b5",
   "metadata": {},
   "outputs": [],
   "source": [
    "# Renaming Columns\n",
    "df.rename(columns={'In euros':'Price' , 'Number of views last 7 days': 'Visits'}, inplace = True)"
   ]
  },
  {
   "cell_type": "code",
   "execution_count": 10,
   "id": "55815f65",
   "metadata": {},
   "outputs": [
    {
     "name": "stdout",
     "output_type": "stream",
     "text": [
      "<class 'pandas.core.frame.DataFrame'>\n",
      "RangeIndex: 9893 entries, 0 to 9892\n",
      "Data columns (total 10 columns):\n",
      " #   Column        Non-Null Count  Dtype  \n",
      "---  ------        --------------  -----  \n",
      " 0   Price         9890 non-null   float64\n",
      " 1   Boat Type     9892 non-null   object \n",
      " 2   Manufacturer  8550 non-null   object \n",
      " 3   Condition     9882 non-null   object \n",
      " 4   Year Built    9888 non-null   float64\n",
      " 5   Length        9879 non-null   float64\n",
      " 6   Width         9832 non-null   float64\n",
      " 7   Visits        9884 non-null   float64\n",
      " 8   Material      8139 non-null   object \n",
      " 9   Country       9852 non-null   object \n",
      "dtypes: float64(5), object(5)\n",
      "memory usage: 773.0+ KB\n"
     ]
    }
   ],
   "source": [
    "df.info()"
   ]
  },
  {
   "cell_type": "code",
   "execution_count": 11,
   "id": "5d50d935",
   "metadata": {},
   "outputs": [
    {
     "data": {
      "text/html": [
       "<div>\n",
       "<style scoped>\n",
       "    .dataframe tbody tr th:only-of-type {\n",
       "        vertical-align: middle;\n",
       "    }\n",
       "\n",
       "    .dataframe tbody tr th {\n",
       "        vertical-align: top;\n",
       "    }\n",
       "\n",
       "    .dataframe thead th {\n",
       "        text-align: right;\n",
       "    }\n",
       "</style>\n",
       "<table border=\"1\" class=\"dataframe\">\n",
       "  <thead>\n",
       "    <tr style=\"text-align: right;\">\n",
       "      <th></th>\n",
       "      <th>Price</th>\n",
       "      <th>Boat Type</th>\n",
       "      <th>Manufacturer</th>\n",
       "      <th>Condition</th>\n",
       "      <th>Year Built</th>\n",
       "      <th>Length</th>\n",
       "      <th>Width</th>\n",
       "      <th>Visits</th>\n",
       "      <th>Material</th>\n",
       "      <th>Country</th>\n",
       "    </tr>\n",
       "  </thead>\n",
       "  <tbody>\n",
       "    <tr>\n",
       "      <th>0</th>\n",
       "      <td>3537.22</td>\n",
       "      <td>Motor Yacht</td>\n",
       "      <td>Rigiflex power boats</td>\n",
       "      <td>new boat from stock</td>\n",
       "      <td>2017.0</td>\n",
       "      <td>4.00</td>\n",
       "      <td>1.90</td>\n",
       "      <td>226.0</td>\n",
       "      <td>NaN</td>\n",
       "      <td>Switzerland</td>\n",
       "    </tr>\n",
       "    <tr>\n",
       "      <th>1</th>\n",
       "      <td>3490.00</td>\n",
       "      <td>Center console boat</td>\n",
       "      <td>Terhi power boats</td>\n",
       "      <td>new boat from stock</td>\n",
       "      <td>2020.0</td>\n",
       "      <td>4.00</td>\n",
       "      <td>1.50</td>\n",
       "      <td>75.0</td>\n",
       "      <td>Thermoplastic</td>\n",
       "      <td>Germany</td>\n",
       "    </tr>\n",
       "    <tr>\n",
       "      <th>2</th>\n",
       "      <td>3996.20</td>\n",
       "      <td>Sport Boat</td>\n",
       "      <td>Marine power boats</td>\n",
       "      <td>new boat from stock</td>\n",
       "      <td>0.0</td>\n",
       "      <td>3.69</td>\n",
       "      <td>1.42</td>\n",
       "      <td>124.0</td>\n",
       "      <td>Aluminium</td>\n",
       "      <td>Switzerland</td>\n",
       "    </tr>\n",
       "    <tr>\n",
       "      <th>3</th>\n",
       "      <td>3367.00</td>\n",
       "      <td>Sport Boat</td>\n",
       "      <td>Pioner power boats</td>\n",
       "      <td>new boat from stock</td>\n",
       "      <td>2020.0</td>\n",
       "      <td>3.00</td>\n",
       "      <td>1.00</td>\n",
       "      <td>64.0</td>\n",
       "      <td>NaN</td>\n",
       "      <td>Denmark</td>\n",
       "    </tr>\n",
       "    <tr>\n",
       "      <th>4</th>\n",
       "      <td>3399.00</td>\n",
       "      <td>Fishing Boat</td>\n",
       "      <td>Linder power boats</td>\n",
       "      <td>new boat from stock</td>\n",
       "      <td>2019.0</td>\n",
       "      <td>3.55</td>\n",
       "      <td>1.46</td>\n",
       "      <td>58.0</td>\n",
       "      <td>Aluminium</td>\n",
       "      <td>Germany</td>\n",
       "    </tr>\n",
       "  </tbody>\n",
       "</table>\n",
       "</div>"
      ],
      "text/plain": [
       "     Price            Boat Type          Manufacturer            Condition  \\\n",
       "0  3537.22          Motor Yacht  Rigiflex power boats  new boat from stock   \n",
       "1  3490.00  Center console boat     Terhi power boats  new boat from stock   \n",
       "2  3996.20           Sport Boat    Marine power boats  new boat from stock   \n",
       "3  3367.00           Sport Boat    Pioner power boats  new boat from stock   \n",
       "4  3399.00         Fishing Boat    Linder power boats  new boat from stock   \n",
       "\n",
       "   Year Built  Length  Width  Visits       Material      Country  \n",
       "0      2017.0    4.00   1.90   226.0            NaN  Switzerland  \n",
       "1      2020.0    4.00   1.50    75.0  Thermoplastic      Germany  \n",
       "2         0.0    3.69   1.42   124.0      Aluminium  Switzerland  \n",
       "3      2020.0    3.00   1.00    64.0            NaN      Denmark  \n",
       "4      2019.0    3.55   1.46    58.0      Aluminium      Germany  "
      ]
     },
     "execution_count": 11,
     "metadata": {},
     "output_type": "execute_result"
    }
   ],
   "source": [
    "df.head()"
   ]
  },
  {
   "cell_type": "markdown",
   "id": "e4bb6cc7",
   "metadata": {},
   "source": [
    "# Data Consistency Checks"
   ]
  },
  {
   "cell_type": "code",
   "execution_count": 12,
   "id": "56cffe93",
   "metadata": {},
   "outputs": [],
   "source": [
    "# Checking for duplicates\n",
    "df_dups = df[df.duplicated()]"
   ]
  },
  {
   "cell_type": "code",
   "execution_count": 13,
   "id": "195c7455",
   "metadata": {},
   "outputs": [
    {
     "data": {
      "text/html": [
       "<div>\n",
       "<style scoped>\n",
       "    .dataframe tbody tr th:only-of-type {\n",
       "        vertical-align: middle;\n",
       "    }\n",
       "\n",
       "    .dataframe tbody tr th {\n",
       "        vertical-align: top;\n",
       "    }\n",
       "\n",
       "    .dataframe thead th {\n",
       "        text-align: right;\n",
       "    }\n",
       "</style>\n",
       "<table border=\"1\" class=\"dataframe\">\n",
       "  <thead>\n",
       "    <tr style=\"text-align: right;\">\n",
       "      <th></th>\n",
       "      <th>Price</th>\n",
       "      <th>Boat Type</th>\n",
       "      <th>Manufacturer</th>\n",
       "      <th>Condition</th>\n",
       "      <th>Year Built</th>\n",
       "      <th>Length</th>\n",
       "      <th>Width</th>\n",
       "      <th>Visits</th>\n",
       "      <th>Material</th>\n",
       "      <th>Country</th>\n",
       "    </tr>\n",
       "  </thead>\n",
       "  <tbody>\n",
       "  </tbody>\n",
       "</table>\n",
       "</div>"
      ],
      "text/plain": [
       "Empty DataFrame\n",
       "Columns: [Price, Boat Type, Manufacturer, Condition, Year Built, Length, Width, Visits, Material, Country]\n",
       "Index: []"
      ]
     },
     "execution_count": 13,
     "metadata": {},
     "output_type": "execute_result"
    }
   ],
   "source": [
    "df_dups"
   ]
  },
  {
   "cell_type": "code",
   "execution_count": 14,
   "id": "accc5aa4",
   "metadata": {},
   "outputs": [],
   "source": [
    "## No duplicated values found"
   ]
  },
  {
   "cell_type": "code",
   "execution_count": 15,
   "id": "4656a10e",
   "metadata": {},
   "outputs": [
    {
     "data": {
      "text/plain": [
       "Price              3\n",
       "Boat Type          1\n",
       "Manufacturer    1343\n",
       "Condition         11\n",
       "Year Built         5\n",
       "Length            14\n",
       "Width             61\n",
       "Visits             9\n",
       "Material        1754\n",
       "Country           41\n",
       "dtype: int64"
      ]
     },
     "execution_count": 15,
     "metadata": {},
     "output_type": "execute_result"
    }
   ],
   "source": [
    "# Checking for missing values\n",
    "df.isnull().sum()"
   ]
  },
  {
   "cell_type": "code",
   "execution_count": 16,
   "id": "807d8097",
   "metadata": {},
   "outputs": [],
   "source": [
    "### There are very few missing values found,and with the exception of the Manufacturer and the Material columns, the percentage is zero, insignificant, so i will replce de values with the column mean.\n",
    "### The Manufacturer and Material Values have higher percentages 16% and 22% of their global values, i will keep them as NaN values"
   ]
  },
  {
   "cell_type": "code",
   "execution_count": 17,
   "id": "34c37099",
   "metadata": {},
   "outputs": [
    {
     "data": {
      "text/html": [
       "<div>\n",
       "<style scoped>\n",
       "    .dataframe tbody tr th:only-of-type {\n",
       "        vertical-align: middle;\n",
       "    }\n",
       "\n",
       "    .dataframe tbody tr th {\n",
       "        vertical-align: top;\n",
       "    }\n",
       "\n",
       "    .dataframe thead th {\n",
       "        text-align: right;\n",
       "    }\n",
       "</style>\n",
       "<table border=\"1\" class=\"dataframe\">\n",
       "  <thead>\n",
       "    <tr style=\"text-align: right;\">\n",
       "      <th></th>\n",
       "      <th>Price</th>\n",
       "      <th>Year Built</th>\n",
       "      <th>Length</th>\n",
       "      <th>Width</th>\n",
       "      <th>Visits</th>\n",
       "    </tr>\n",
       "  </thead>\n",
       "  <tbody>\n",
       "    <tr>\n",
       "      <th>count</th>\n",
       "      <td>9.890000e+03</td>\n",
       "      <td>9888.000000</td>\n",
       "      <td>9879.000000</td>\n",
       "      <td>9832.000000</td>\n",
       "      <td>9884.000000</td>\n",
       "    </tr>\n",
       "    <tr>\n",
       "      <th>mean</th>\n",
       "      <td>3.032715e+05</td>\n",
       "      <td>1893.192860</td>\n",
       "      <td>11.570017</td>\n",
       "      <td>3.520124</td>\n",
       "      <td>149.177459</td>\n",
       "    </tr>\n",
       "    <tr>\n",
       "      <th>std</th>\n",
       "      <td>9.712014e+05</td>\n",
       "      <td>460.201582</td>\n",
       "      <td>6.002820</td>\n",
       "      <td>1.220534</td>\n",
       "      <td>151.843104</td>\n",
       "    </tr>\n",
       "    <tr>\n",
       "      <th>min</th>\n",
       "      <td>0.000000e+00</td>\n",
       "      <td>0.000000</td>\n",
       "      <td>1.040000</td>\n",
       "      <td>0.010000</td>\n",
       "      <td>13.000000</td>\n",
       "    </tr>\n",
       "    <tr>\n",
       "      <th>25%</th>\n",
       "      <td>4.300000e+04</td>\n",
       "      <td>1996.000000</td>\n",
       "      <td>7.470000</td>\n",
       "      <td>2.540000</td>\n",
       "      <td>70.000000</td>\n",
       "    </tr>\n",
       "    <tr>\n",
       "      <th>50%</th>\n",
       "      <td>9.395000e+04</td>\n",
       "      <td>2007.000000</td>\n",
       "      <td>10.280000</td>\n",
       "      <td>3.330000</td>\n",
       "      <td>108.000000</td>\n",
       "    </tr>\n",
       "    <tr>\n",
       "      <th>75%</th>\n",
       "      <td>2.490000e+05</td>\n",
       "      <td>2017.000000</td>\n",
       "      <td>13.930000</td>\n",
       "      <td>4.250000</td>\n",
       "      <td>172.000000</td>\n",
       "    </tr>\n",
       "    <tr>\n",
       "      <th>max</th>\n",
       "      <td>3.100000e+07</td>\n",
       "      <td>2021.000000</td>\n",
       "      <td>100.000000</td>\n",
       "      <td>25.160000</td>\n",
       "      <td>3263.000000</td>\n",
       "    </tr>\n",
       "  </tbody>\n",
       "</table>\n",
       "</div>"
      ],
      "text/plain": [
       "              Price   Year Built       Length        Width       Visits\n",
       "count  9.890000e+03  9888.000000  9879.000000  9832.000000  9884.000000\n",
       "mean   3.032715e+05  1893.192860    11.570017     3.520124   149.177459\n",
       "std    9.712014e+05   460.201582     6.002820     1.220534   151.843104\n",
       "min    0.000000e+00     0.000000     1.040000     0.010000    13.000000\n",
       "25%    4.300000e+04  1996.000000     7.470000     2.540000    70.000000\n",
       "50%    9.395000e+04  2007.000000    10.280000     3.330000   108.000000\n",
       "75%    2.490000e+05  2017.000000    13.930000     4.250000   172.000000\n",
       "max    3.100000e+07  2021.000000   100.000000    25.160000  3263.000000"
      ]
     },
     "execution_count": 17,
     "metadata": {},
     "output_type": "execute_result"
    }
   ],
   "source": [
    "# Filling missing values with the mean values ( numeric columns)\n",
    "df.describe()"
   ]
  },
  {
   "cell_type": "code",
   "execution_count": 18,
   "id": "21112747",
   "metadata": {},
   "outputs": [],
   "source": [
    "df['Price'].fillna(3.032715e+05, inplace=True)"
   ]
  },
  {
   "cell_type": "code",
   "execution_count": 19,
   "id": "e2b8c86c",
   "metadata": {},
   "outputs": [],
   "source": [
    "df['Year Built'].fillna(1893.192860, inplace=True)"
   ]
  },
  {
   "cell_type": "code",
   "execution_count": 20,
   "id": "d0efa24d",
   "metadata": {},
   "outputs": [],
   "source": [
    "df['Length'].fillna(11.570017, inplace=True)"
   ]
  },
  {
   "cell_type": "code",
   "execution_count": 21,
   "id": "655cb414",
   "metadata": {},
   "outputs": [],
   "source": [
    "df['Width'].fillna(3.520124, inplace=True)"
   ]
  },
  {
   "cell_type": "code",
   "execution_count": 22,
   "id": "69eb57b0",
   "metadata": {},
   "outputs": [],
   "source": [
    "df['Visits'].fillna(149.177459, inplace=True)"
   ]
  },
  {
   "cell_type": "code",
   "execution_count": 23,
   "id": "671de7e8",
   "metadata": {},
   "outputs": [
    {
     "data": {
      "text/plain": [
       "Price              0\n",
       "Boat Type          1\n",
       "Manufacturer    1343\n",
       "Condition         11\n",
       "Year Built         0\n",
       "Length             0\n",
       "Width              0\n",
       "Visits             0\n",
       "Material        1754\n",
       "Country           41\n",
       "dtype: int64"
      ]
     },
     "execution_count": 23,
     "metadata": {},
     "output_type": "execute_result"
    }
   ],
   "source": [
    "df.isnull().sum()"
   ]
  },
  {
   "cell_type": "code",
   "execution_count": 24,
   "id": "2d7f12e9",
   "metadata": {},
   "outputs": [],
   "source": [
    "df['Boat Type'].fillna('Other', inplace=True)"
   ]
  },
  {
   "cell_type": "code",
   "execution_count": 25,
   "id": "bf4e58f9",
   "metadata": {},
   "outputs": [],
   "source": [
    "df['Manufacturer'].fillna('Other', inplace=True)"
   ]
  },
  {
   "cell_type": "code",
   "execution_count": 26,
   "id": "74524c14",
   "metadata": {},
   "outputs": [],
   "source": [
    "df['Condition'].fillna('Other', inplace=True)"
   ]
  },
  {
   "cell_type": "code",
   "execution_count": 27,
   "id": "e9e1452a",
   "metadata": {},
   "outputs": [],
   "source": [
    "df['Material'].fillna('Other', inplace=True)"
   ]
  },
  {
   "cell_type": "code",
   "execution_count": 28,
   "id": "12cdc2e5",
   "metadata": {},
   "outputs": [],
   "source": [
    "df['Country'].fillna('Other', inplace=True)"
   ]
  },
  {
   "cell_type": "code",
   "execution_count": 29,
   "id": "892661e8",
   "metadata": {},
   "outputs": [
    {
     "data": {
      "text/plain": [
       "Price           0\n",
       "Boat Type       0\n",
       "Manufacturer    0\n",
       "Condition       0\n",
       "Year Built      0\n",
       "Length          0\n",
       "Width           0\n",
       "Visits          0\n",
       "Material        0\n",
       "Country         0\n",
       "dtype: int64"
      ]
     },
     "execution_count": 29,
     "metadata": {},
     "output_type": "execute_result"
    }
   ],
   "source": [
    "df.isnull().sum()\n"
   ]
  },
  {
   "cell_type": "code",
   "execution_count": 30,
   "id": "abcd169c",
   "metadata": {},
   "outputs": [],
   "source": [
    "### No more missing values left"
   ]
  },
  {
   "cell_type": "code",
   "execution_count": 31,
   "id": "085840d5",
   "metadata": {},
   "outputs": [],
   "source": [
    "# Changing Data Types\n",
    "df['Price'] = df['Price'].astype('int')\n",
    "df['Year Built'] = df['Year Built'].astype('int')\n",
    "df['Visits'] = df['Visits'].astype('int')\n"
   ]
  },
  {
   "cell_type": "code",
   "execution_count": 32,
   "id": "bdbe42ad",
   "metadata": {},
   "outputs": [],
   "source": [
    "# Changing Data Types\n",
    "df['Boat Type'] = df['Boat Type'].astype('str')\n",
    "df['Manufacturer'] = df['Manufacturer'].astype('str')\n",
    "df['Condition'] = df['Condition'].astype('str')\n",
    "df['Material'] = df['Material'].astype('str')\n",
    "df['Country'] = df['Country'].astype('str')"
   ]
  },
  {
   "cell_type": "code",
   "execution_count": 33,
   "id": "0cf9af26",
   "metadata": {},
   "outputs": [
    {
     "name": "stdout",
     "output_type": "stream",
     "text": [
      "<class 'pandas.core.frame.DataFrame'>\n",
      "RangeIndex: 9893 entries, 0 to 9892\n",
      "Data columns (total 10 columns):\n",
      " #   Column        Non-Null Count  Dtype  \n",
      "---  ------        --------------  -----  \n",
      " 0   Price         9893 non-null   int32  \n",
      " 1   Boat Type     9893 non-null   object \n",
      " 2   Manufacturer  9893 non-null   object \n",
      " 3   Condition     9893 non-null   object \n",
      " 4   Year Built    9893 non-null   int32  \n",
      " 5   Length        9893 non-null   float64\n",
      " 6   Width         9893 non-null   float64\n",
      " 7   Visits        9893 non-null   int32  \n",
      " 8   Material      9893 non-null   object \n",
      " 9   Country       9893 non-null   object \n",
      "dtypes: float64(2), int32(3), object(5)\n",
      "memory usage: 657.1+ KB\n"
     ]
    }
   ],
   "source": [
    "df.info()"
   ]
  },
  {
   "cell_type": "code",
   "execution_count": 34,
   "id": "db7f8341",
   "metadata": {},
   "outputs": [
    {
     "data": {
      "text/html": [
       "<div>\n",
       "<style scoped>\n",
       "    .dataframe tbody tr th:only-of-type {\n",
       "        vertical-align: middle;\n",
       "    }\n",
       "\n",
       "    .dataframe tbody tr th {\n",
       "        vertical-align: top;\n",
       "    }\n",
       "\n",
       "    .dataframe thead th {\n",
       "        text-align: right;\n",
       "    }\n",
       "</style>\n",
       "<table border=\"1\" class=\"dataframe\">\n",
       "  <thead>\n",
       "    <tr style=\"text-align: right;\">\n",
       "      <th></th>\n",
       "      <th>Price</th>\n",
       "      <th>Boat Type</th>\n",
       "      <th>Manufacturer</th>\n",
       "      <th>Condition</th>\n",
       "      <th>Year Built</th>\n",
       "      <th>Length</th>\n",
       "      <th>Width</th>\n",
       "      <th>Visits</th>\n",
       "      <th>Material</th>\n",
       "      <th>Country</th>\n",
       "    </tr>\n",
       "  </thead>\n",
       "  <tbody>\n",
       "    <tr>\n",
       "      <th>0</th>\n",
       "      <td>3537</td>\n",
       "      <td>Motor Yacht</td>\n",
       "      <td>Rigiflex power boats</td>\n",
       "      <td>new boat from stock</td>\n",
       "      <td>2017</td>\n",
       "      <td>4.00</td>\n",
       "      <td>1.90</td>\n",
       "      <td>226</td>\n",
       "      <td>Other</td>\n",
       "      <td>Switzerland</td>\n",
       "    </tr>\n",
       "    <tr>\n",
       "      <th>1</th>\n",
       "      <td>3490</td>\n",
       "      <td>Center console boat</td>\n",
       "      <td>Terhi power boats</td>\n",
       "      <td>new boat from stock</td>\n",
       "      <td>2020</td>\n",
       "      <td>4.00</td>\n",
       "      <td>1.50</td>\n",
       "      <td>75</td>\n",
       "      <td>Thermoplastic</td>\n",
       "      <td>Germany</td>\n",
       "    </tr>\n",
       "    <tr>\n",
       "      <th>2</th>\n",
       "      <td>3996</td>\n",
       "      <td>Sport Boat</td>\n",
       "      <td>Marine power boats</td>\n",
       "      <td>new boat from stock</td>\n",
       "      <td>0</td>\n",
       "      <td>3.69</td>\n",
       "      <td>1.42</td>\n",
       "      <td>124</td>\n",
       "      <td>Aluminium</td>\n",
       "      <td>Switzerland</td>\n",
       "    </tr>\n",
       "    <tr>\n",
       "      <th>3</th>\n",
       "      <td>3367</td>\n",
       "      <td>Sport Boat</td>\n",
       "      <td>Pioner power boats</td>\n",
       "      <td>new boat from stock</td>\n",
       "      <td>2020</td>\n",
       "      <td>3.00</td>\n",
       "      <td>1.00</td>\n",
       "      <td>64</td>\n",
       "      <td>Other</td>\n",
       "      <td>Denmark</td>\n",
       "    </tr>\n",
       "    <tr>\n",
       "      <th>4</th>\n",
       "      <td>3399</td>\n",
       "      <td>Fishing Boat</td>\n",
       "      <td>Linder power boats</td>\n",
       "      <td>new boat from stock</td>\n",
       "      <td>2019</td>\n",
       "      <td>3.55</td>\n",
       "      <td>1.46</td>\n",
       "      <td>58</td>\n",
       "      <td>Aluminium</td>\n",
       "      <td>Germany</td>\n",
       "    </tr>\n",
       "  </tbody>\n",
       "</table>\n",
       "</div>"
      ],
      "text/plain": [
       "   Price            Boat Type          Manufacturer            Condition  \\\n",
       "0   3537          Motor Yacht  Rigiflex power boats  new boat from stock   \n",
       "1   3490  Center console boat     Terhi power boats  new boat from stock   \n",
       "2   3996           Sport Boat    Marine power boats  new boat from stock   \n",
       "3   3367           Sport Boat    Pioner power boats  new boat from stock   \n",
       "4   3399         Fishing Boat    Linder power boats  new boat from stock   \n",
       "\n",
       "   Year Built  Length  Width  Visits       Material      Country  \n",
       "0        2017    4.00   1.90     226          Other  Switzerland  \n",
       "1        2020    4.00   1.50      75  Thermoplastic      Germany  \n",
       "2           0    3.69   1.42     124      Aluminium  Switzerland  \n",
       "3        2020    3.00   1.00      64          Other      Denmark  \n",
       "4        2019    3.55   1.46      58      Aluminium      Germany  "
      ]
     },
     "execution_count": 34,
     "metadata": {},
     "output_type": "execute_result"
    }
   ],
   "source": [
    "df.head()"
   ]
  },
  {
   "cell_type": "code",
   "execution_count": 35,
   "id": "dbab4f7a",
   "metadata": {},
   "outputs": [
    {
     "data": {
      "text/html": [
       "<div>\n",
       "<style scoped>\n",
       "    .dataframe tbody tr th:only-of-type {\n",
       "        vertical-align: middle;\n",
       "    }\n",
       "\n",
       "    .dataframe tbody tr th {\n",
       "        vertical-align: top;\n",
       "    }\n",
       "\n",
       "    .dataframe thead th {\n",
       "        text-align: right;\n",
       "    }\n",
       "</style>\n",
       "<table border=\"1\" class=\"dataframe\">\n",
       "  <thead>\n",
       "    <tr style=\"text-align: right;\">\n",
       "      <th></th>\n",
       "      <th>Price</th>\n",
       "      <th>Boat Type</th>\n",
       "      <th>Manufacturer</th>\n",
       "      <th>Condition</th>\n",
       "      <th>Year Built</th>\n",
       "      <th>Length</th>\n",
       "      <th>Width</th>\n",
       "      <th>Visits</th>\n",
       "      <th>Material</th>\n",
       "      <th>Country</th>\n",
       "    </tr>\n",
       "  </thead>\n",
       "  <tbody>\n",
       "    <tr>\n",
       "      <th>9888</th>\n",
       "      <td>5194</td>\n",
       "      <td>Sport Boat</td>\n",
       "      <td>Sea Ray power boats</td>\n",
       "      <td>Used boat</td>\n",
       "      <td>1987</td>\n",
       "      <td>6.30</td>\n",
       "      <td>2.44</td>\n",
       "      <td>1116</td>\n",
       "      <td>Other</td>\n",
       "      <td>Switzerland</td>\n",
       "    </tr>\n",
       "    <tr>\n",
       "      <th>9889</th>\n",
       "      <td>4516</td>\n",
       "      <td>Sport Boat</td>\n",
       "      <td>Other</td>\n",
       "      <td>new boat from stock</td>\n",
       "      <td>0</td>\n",
       "      <td>4.17</td>\n",
       "      <td>1.68</td>\n",
       "      <td>94</td>\n",
       "      <td>GRP</td>\n",
       "      <td>Germany</td>\n",
       "    </tr>\n",
       "    <tr>\n",
       "      <th>9890</th>\n",
       "      <td>4499</td>\n",
       "      <td>Sport Boat</td>\n",
       "      <td>BlueCraft power boats</td>\n",
       "      <td>new boat from stock</td>\n",
       "      <td>2020</td>\n",
       "      <td>4.40</td>\n",
       "      <td>1.80</td>\n",
       "      <td>354</td>\n",
       "      <td>GRP</td>\n",
       "      <td>Germany</td>\n",
       "    </tr>\n",
       "    <tr>\n",
       "      <th>9891</th>\n",
       "      <td>4300</td>\n",
       "      <td>Pontoon Boat</td>\n",
       "      <td>Whaly power boats</td>\n",
       "      <td>new boat from stock</td>\n",
       "      <td>2018</td>\n",
       "      <td>4.37</td>\n",
       "      <td>1.89</td>\n",
       "      <td>266</td>\n",
       "      <td>Other</td>\n",
       "      <td>Italy</td>\n",
       "    </tr>\n",
       "    <tr>\n",
       "      <th>9892</th>\n",
       "      <td>4006</td>\n",
       "      <td>Fishing Boat</td>\n",
       "      <td>DarekCo power boats</td>\n",
       "      <td>new boat from stock</td>\n",
       "      <td>2019</td>\n",
       "      <td>3.60</td>\n",
       "      <td>1.60</td>\n",
       "      <td>194</td>\n",
       "      <td>GRP</td>\n",
       "      <td>Switzerland</td>\n",
       "    </tr>\n",
       "  </tbody>\n",
       "</table>\n",
       "</div>"
      ],
      "text/plain": [
       "      Price     Boat Type           Manufacturer            Condition  \\\n",
       "9888   5194    Sport Boat    Sea Ray power boats            Used boat   \n",
       "9889   4516    Sport Boat                  Other  new boat from stock   \n",
       "9890   4499    Sport Boat  BlueCraft power boats  new boat from stock   \n",
       "9891   4300  Pontoon Boat      Whaly power boats  new boat from stock   \n",
       "9892   4006  Fishing Boat    DarekCo power boats  new boat from stock   \n",
       "\n",
       "      Year Built  Length  Width  Visits Material      Country  \n",
       "9888        1987    6.30   2.44    1116    Other  Switzerland  \n",
       "9889           0    4.17   1.68      94      GRP      Germany  \n",
       "9890        2020    4.40   1.80     354      GRP      Germany  \n",
       "9891        2018    4.37   1.89     266    Other        Italy  \n",
       "9892        2019    3.60   1.60     194      GRP  Switzerland  "
      ]
     },
     "execution_count": 35,
     "metadata": {},
     "output_type": "execute_result"
    }
   ],
   "source": [
    "df.tail()"
   ]
  },
  {
   "cell_type": "code",
   "execution_count": 36,
   "id": "0c6eff01",
   "metadata": {},
   "outputs": [
    {
     "data": {
      "text/html": [
       "<div>\n",
       "<style scoped>\n",
       "    .dataframe tbody tr th:only-of-type {\n",
       "        vertical-align: middle;\n",
       "    }\n",
       "\n",
       "    .dataframe tbody tr th {\n",
       "        vertical-align: top;\n",
       "    }\n",
       "\n",
       "    .dataframe thead th {\n",
       "        text-align: right;\n",
       "    }\n",
       "</style>\n",
       "<table border=\"1\" class=\"dataframe\">\n",
       "  <thead>\n",
       "    <tr style=\"text-align: right;\">\n",
       "      <th></th>\n",
       "      <th>Price</th>\n",
       "      <th>Year Built</th>\n",
       "      <th>Length</th>\n",
       "      <th>Width</th>\n",
       "      <th>Visits</th>\n",
       "    </tr>\n",
       "  </thead>\n",
       "  <tbody>\n",
       "    <tr>\n",
       "      <th>count</th>\n",
       "      <td>9.893000e+03</td>\n",
       "      <td>9893.000000</td>\n",
       "      <td>9893.000000</td>\n",
       "      <td>9893.000000</td>\n",
       "      <td>9893.000000</td>\n",
       "    </tr>\n",
       "    <tr>\n",
       "      <th>mean</th>\n",
       "      <td>3.032715e+05</td>\n",
       "      <td>1893.192763</td>\n",
       "      <td>11.570017</td>\n",
       "      <td>3.520124</td>\n",
       "      <td>149.177297</td>\n",
       "    </tr>\n",
       "    <tr>\n",
       "      <th>std</th>\n",
       "      <td>9.710542e+05</td>\n",
       "      <td>460.085261</td>\n",
       "      <td>5.998570</td>\n",
       "      <td>1.216765</td>\n",
       "      <td>151.774013</td>\n",
       "    </tr>\n",
       "    <tr>\n",
       "      <th>min</th>\n",
       "      <td>0.000000e+00</td>\n",
       "      <td>0.000000</td>\n",
       "      <td>1.040000</td>\n",
       "      <td>0.010000</td>\n",
       "      <td>13.000000</td>\n",
       "    </tr>\n",
       "    <tr>\n",
       "      <th>25%</th>\n",
       "      <td>4.300000e+04</td>\n",
       "      <td>1996.000000</td>\n",
       "      <td>7.470000</td>\n",
       "      <td>2.550000</td>\n",
       "      <td>70.000000</td>\n",
       "    </tr>\n",
       "    <tr>\n",
       "      <th>50%</th>\n",
       "      <td>9.400000e+04</td>\n",
       "      <td>2007.000000</td>\n",
       "      <td>10.300000</td>\n",
       "      <td>3.350000</td>\n",
       "      <td>108.000000</td>\n",
       "    </tr>\n",
       "    <tr>\n",
       "      <th>75%</th>\n",
       "      <td>2.490000e+05</td>\n",
       "      <td>2017.000000</td>\n",
       "      <td>13.920000</td>\n",
       "      <td>4.250000</td>\n",
       "      <td>172.000000</td>\n",
       "    </tr>\n",
       "    <tr>\n",
       "      <th>max</th>\n",
       "      <td>3.100000e+07</td>\n",
       "      <td>2021.000000</td>\n",
       "      <td>100.000000</td>\n",
       "      <td>25.160000</td>\n",
       "      <td>3263.000000</td>\n",
       "    </tr>\n",
       "  </tbody>\n",
       "</table>\n",
       "</div>"
      ],
      "text/plain": [
       "              Price   Year Built       Length        Width       Visits\n",
       "count  9.893000e+03  9893.000000  9893.000000  9893.000000  9893.000000\n",
       "mean   3.032715e+05  1893.192763    11.570017     3.520124   149.177297\n",
       "std    9.710542e+05   460.085261     5.998570     1.216765   151.774013\n",
       "min    0.000000e+00     0.000000     1.040000     0.010000    13.000000\n",
       "25%    4.300000e+04  1996.000000     7.470000     2.550000    70.000000\n",
       "50%    9.400000e+04  2007.000000    10.300000     3.350000   108.000000\n",
       "75%    2.490000e+05  2017.000000    13.920000     4.250000   172.000000\n",
       "max    3.100000e+07  2021.000000   100.000000    25.160000  3263.000000"
      ]
     },
     "execution_count": 36,
     "metadata": {},
     "output_type": "execute_result"
    }
   ],
   "source": [
    "df.describe()"
   ]
  },
  {
   "cell_type": "markdown",
   "id": "44d07db9",
   "metadata": {},
   "source": [
    "# Exporting Data"
   ]
  },
  {
   "cell_type": "code",
   "execution_count": 37,
   "id": "91b2c0cf",
   "metadata": {},
   "outputs": [
    {
     "data": {
      "text/plain": [
       "(9893, 10)"
      ]
     },
     "execution_count": 37,
     "metadata": {},
     "output_type": "execute_result"
    }
   ],
   "source": [
    "# Checking output size\n",
    "df.shape"
   ]
  },
  {
   "cell_type": "code",
   "execution_count": 1,
   "id": "28fcc4e3",
   "metadata": {},
   "outputs": [
    {
     "ename": "SyntaxError",
     "evalue": "incomplete input (857257286.py, line 2)",
     "output_type": "error",
     "traceback": [
      "\u001b[1;36m  Cell \u001b[1;32mIn[1], line 2\u001b[1;36m\u001b[0m\n\u001b[1;33m    df.to_csv(os.path.join(path, '02 Data','Prepared Data', 'boat_data_wrangled.csv')\u001b[0m\n\u001b[1;37m                                                                                     ^\u001b[0m\n\u001b[1;31mSyntaxError\u001b[0m\u001b[1;31m:\u001b[0m incomplete input\n"
     ]
    }
   ],
   "source": [
    "# Export data to csv\n",
    "df.to_csv(os.path.join(path, '02 Data','Prepared Data', 'boat_data_wrangled.csv')"
   ]
  },
  {
   "cell_type": "code",
   "execution_count": 39,
   "id": "540d2119",
   "metadata": {},
   "outputs": [],
   "source": [
    "# Export data to pkl\n",
    "df.to_pickle(os.path.join(path, '02 Data','Prepared Data', 'boat_data_wrangled.pkl'))"
   ]
  }
 ],
 "metadata": {
  "kernelspec": {
   "display_name": "Python 3 (ipykernel)",
   "language": "python",
   "name": "python3"
  },
  "language_info": {
   "codemirror_mode": {
    "name": "ipython",
    "version": 3
   },
   "file_extension": ".py",
   "mimetype": "text/x-python",
   "name": "python",
   "nbconvert_exporter": "python",
   "pygments_lexer": "ipython3",
   "version": "3.11.5"
  }
 },
 "nbformat": 4,
 "nbformat_minor": 5
}
